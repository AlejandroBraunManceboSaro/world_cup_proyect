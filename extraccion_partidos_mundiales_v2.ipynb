{
 "cells": [
  {
   "cell_type": "markdown",
   "id": "cdb2d3d6",
   "metadata": {},
   "source": [
    " # Extracción de los partidos de los mundiales \n",
    " "
   ]
  },
  {
   "cell_type": "code",
   "execution_count": 14,
   "id": "bd98cbd8",
   "metadata": {},
   "outputs": [],
   "source": [
    "import pandas as pd\n",
    "from selenium import webdriver\n",
    "from selenium.webdriver.chrome.service import Service\n",
    "from selenium.webdriver.common.keys import Keys\n",
    "from selenium.webdriver.common.by import By\n",
    "from selenium.webdriver.support.ui import WebDriverWait\n",
    "from selenium.webdriver.support import expected_conditions as EC\n",
    "import time"
   ]
  },
  {
   "cell_type": "code",
   "execution_count": 2,
   "id": "c20a4a77",
   "metadata": {},
   "outputs": [],
   "source": [
    "path= \"C:/Users/Alex/OneDrive/Desktop/python_proyects/Chrome_driver/chromedriver_win32/chromedriver\"\n",
    "service=Service(executable_path=path)\n",
    "driver = webdriver.Chrome(service=service)\n",
    "driver.get(\"https://www.amazon.com/-/es/Sony-Slim-Lite-Handheld-Game-Console/dp/B000VCVR9A\")"
   ]
  },
  {
   "cell_type": "markdown",
   "id": "7e449114",
   "metadata": {},
   "source": [
    "#### Tras inspreccionar el codigo fuente de la página web, construimos una función para sacr la información que necesitamos"
   ]
  },
  {
   "cell_type": "code",
   "execution_count": 72,
   "id": "043e2d8c",
   "metadata": {},
   "outputs": [],
   "source": [
    "years = list(range(1930,2019,4))"
   ]
  },
  {
   "cell_type": "code",
   "execution_count": 93,
   "id": "efb3a75f",
   "metadata": {},
   "outputs": [],
   "source": [
    "def get_matches(year):\n",
    "    path= \"C:/Users/Alex/OneDrive/Desktop/python_proyects/Chrome_driver/chromedriver_win32/chromedriver\"\n",
    "    service=Service(executable_path=path)\n",
    "    driver = webdriver.Chrome(service=service)\n",
    "    web = \"https://en.wikipedia.org/wiki/{}_FIFA_World_Cup\".format(year)\n",
    "    driver.get(web)\n",
    "    lista_home=[]\n",
    "    lista_score=[]\n",
    "    lista_away=[]\n",
    "    dict_mundial={}\n",
    "    home = driver.find_elements(by=\"xpath\",value='//th[@class=\"fhome\"]')\n",
    "    score = driver.find_elements(by=\"xpath\",value='//th[@class=\"fscore\"]')\n",
    "    away = driver.find_elements(by=\"xpath\",value='//th[@class=\"faway\"]')\n",
    "    for i in range(0,len(home)):\n",
    "        lista_home.append(home[i].text)\n",
    "        lista_score.append(score[i].text)\n",
    "        lista_away.append(away[i].text)\n",
    "    dict_mundial[\"home\"]=lista_home\n",
    "    dict_mundial[\"score\"]=lista_score\n",
    "    dict_mundial[\"away\"]=lista_away\n",
    "    df_mundial=pd.DataFrame(dict_mundial,)\n",
    "    df_mundial[\"year\"]=year\n",
    "    return df_mundial"
   ]
  },
  {
   "cell_type": "markdown",
   "id": "31fae32b",
   "metadata": {},
   "source": [
    "#### Obtenemos los resultados de los mundiales anteriores "
   ]
  },
  {
   "cell_type": "code",
   "execution_count": 95,
   "id": "414d5ff6",
   "metadata": {},
   "outputs": [],
   "source": [
    "mundiales=[get_matches(year) for year in years]\n",
    "df_mundiales=pd.concat(mundiales,ignore_index=True)"
   ]
  },
  {
   "cell_type": "code",
   "execution_count": 97,
   "id": "361c001d",
   "metadata": {},
   "outputs": [],
   "source": [
    "df_mundiales.to_csv(\"mundiales.csv\",index=False)"
   ]
  },
  {
   "cell_type": "markdown",
   "id": "bc1e49ba",
   "metadata": {},
   "source": [
    "#### Obtenemos el mundial actual"
   ]
  },
  {
   "cell_type": "code",
   "execution_count": 98,
   "id": "1a84a3e7",
   "metadata": {},
   "outputs": [],
   "source": [
    "df_actual=get_matches(2022)"
   ]
  },
  {
   "cell_type": "code",
   "execution_count": 100,
   "id": "66b03adc",
   "metadata": {},
   "outputs": [],
   "source": [
    "df_actual.to_csv(\"fifq_worldcup_fixture.csv\",index=False)"
   ]
  }
 ],
 "metadata": {
  "kernelspec": {
   "display_name": "Python 3 (ipykernel)",
   "language": "python",
   "name": "python3"
  },
  "language_info": {
   "codemirror_mode": {
    "name": "ipython",
    "version": 3
   },
   "file_extension": ".py",
   "mimetype": "text/x-python",
   "name": "python",
   "nbconvert_exporter": "python",
   "pygments_lexer": "ipython3",
   "version": "3.11.3"
  }
 },
 "nbformat": 4,
 "nbformat_minor": 5
}
