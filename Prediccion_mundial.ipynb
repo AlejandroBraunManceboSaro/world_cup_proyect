{
 "cells": [
  {
   "cell_type": "markdown",
   "id": "112ff615",
   "metadata": {},
   "source": [
    "# Predicción"
   ]
  },
  {
   "cell_type": "code",
   "execution_count": 21,
   "id": "925d0bb8",
   "metadata": {},
   "outputs": [],
   "source": [
    "import pandas as pd\n",
    "import pickle\n",
    "from scipy.stats import poisson"
   ]
  },
  {
   "cell_type": "code",
   "execution_count": null,
   "id": "b54ffb33",
   "metadata": {},
   "outputs": [],
   "source": [
    "dict_table=pickle.load(open(\"dict_table\",\"rb\"))\n",
    "df_historical_data=pd.read_csv(\"clean_mundiales.csv\")\n",
    "df_actual_data=pd.read_csv(\"clean_wordcup_fixtue.csv\")"
   ]
  },
  {
   "cell_type": "markdown",
   "id": "e4a564c1",
   "metadata": {},
   "source": [
    "#### Construimos un dataframe con la media de goles anotados y recibidos por equipo en todos los mundiales"
   ]
  },
  {
   "cell_type": "code",
   "execution_count": 23,
   "id": "e953d937",
   "metadata": {},
   "outputs": [],
   "source": [
    "df_home=df_historical_data.loc[:,[\"HomeTeam\",\"homeGoals\",\"awayGoals\"]]\n",
    "df_away=df_historical_data.loc[:,[\"AwayTeam\",\"homeGoals\",\"awayGoals\"]]"
   ]
  },
  {
   "cell_type": "code",
   "execution_count": 24,
   "id": "f4a59e12",
   "metadata": {},
   "outputs": [],
   "source": [
    "df_home.rename(columns={\"HomeTeam\":\"Team\",\"homeGoals\":\"Goalsscored\",\"awayGoals\":\"Goalsrecieved\"},inplace=True)\n",
    "df_away.rename(columns={\"AwayTeam\":\"Team\",\"homeGoals\":\"Goalsrecieved\",\"awayGoals\":\"Goalsscored\"},inplace=True)"
   ]
  },
  {
   "cell_type": "code",
   "execution_count": 25,
   "id": "2ff932ee",
   "metadata": {},
   "outputs": [],
   "source": [
    "df_team_strength=pd.concat([df_home,df_away],ignore_index=True).groupby(\"Team\").agg(\"mean\").reset_index()"
   ]
  },
  {
   "cell_type": "code",
   "execution_count": 26,
   "id": "ef3ea811",
   "metadata": {},
   "outputs": [
    {
     "data": {
      "text/html": [
       "<div>\n",
       "<style scoped>\n",
       "    .dataframe tbody tr th:only-of-type {\n",
       "        vertical-align: middle;\n",
       "    }\n",
       "\n",
       "    .dataframe tbody tr th {\n",
       "        vertical-align: top;\n",
       "    }\n",
       "\n",
       "    .dataframe thead th {\n",
       "        text-align: right;\n",
       "    }\n",
       "</style>\n",
       "<table border=\"1\" class=\"dataframe\">\n",
       "  <thead>\n",
       "    <tr style=\"text-align: right;\">\n",
       "      <th></th>\n",
       "      <th>Team</th>\n",
       "      <th>Goalsscored</th>\n",
       "      <th>Goalsrecieved</th>\n",
       "    </tr>\n",
       "  </thead>\n",
       "  <tbody>\n",
       "    <tr>\n",
       "      <th>0</th>\n",
       "      <td>Algeria</td>\n",
       "      <td>1.000000</td>\n",
       "      <td>1.461538</td>\n",
       "    </tr>\n",
       "    <tr>\n",
       "      <th>1</th>\n",
       "      <td>Angola</td>\n",
       "      <td>0.333333</td>\n",
       "      <td>0.666667</td>\n",
       "    </tr>\n",
       "    <tr>\n",
       "      <th>2</th>\n",
       "      <td>Argentina</td>\n",
       "      <td>1.691358</td>\n",
       "      <td>1.148148</td>\n",
       "    </tr>\n",
       "    <tr>\n",
       "      <th>3</th>\n",
       "      <td>Australia</td>\n",
       "      <td>0.812500</td>\n",
       "      <td>1.937500</td>\n",
       "    </tr>\n",
       "    <tr>\n",
       "      <th>4</th>\n",
       "      <td>Austria</td>\n",
       "      <td>1.482759</td>\n",
       "      <td>1.620690</td>\n",
       "    </tr>\n",
       "    <tr>\n",
       "      <th>...</th>\n",
       "      <td>...</td>\n",
       "      <td>...</td>\n",
       "      <td>...</td>\n",
       "    </tr>\n",
       "    <tr>\n",
       "      <th>80</th>\n",
       "      <td>Uruguay</td>\n",
       "      <td>1.553571</td>\n",
       "      <td>1.321429</td>\n",
       "    </tr>\n",
       "    <tr>\n",
       "      <th>81</th>\n",
       "      <td>Wales</td>\n",
       "      <td>0.800000</td>\n",
       "      <td>0.800000</td>\n",
       "    </tr>\n",
       "    <tr>\n",
       "      <th>82</th>\n",
       "      <td>WestGermany</td>\n",
       "      <td>2.098361</td>\n",
       "      <td>1.213115</td>\n",
       "    </tr>\n",
       "    <tr>\n",
       "      <th>83</th>\n",
       "      <td>Yugoslavia</td>\n",
       "      <td>1.666667</td>\n",
       "      <td>1.272727</td>\n",
       "    </tr>\n",
       "    <tr>\n",
       "      <th>84</th>\n",
       "      <td>Zaire</td>\n",
       "      <td>0.000000</td>\n",
       "      <td>4.666667</td>\n",
       "    </tr>\n",
       "  </tbody>\n",
       "</table>\n",
       "<p>85 rows × 3 columns</p>\n",
       "</div>"
      ],
      "text/plain": [
       "           Team  Goalsscored  Goalsrecieved\n",
       "0       Algeria     1.000000       1.461538\n",
       "1        Angola     0.333333       0.666667\n",
       "2     Argentina     1.691358       1.148148\n",
       "3     Australia     0.812500       1.937500\n",
       "4       Austria     1.482759       1.620690\n",
       "..          ...          ...            ...\n",
       "80      Uruguay     1.553571       1.321429\n",
       "81        Wales     0.800000       0.800000\n",
       "82  WestGermany     2.098361       1.213115\n",
       "83   Yugoslavia     1.666667       1.272727\n",
       "84        Zaire     0.000000       4.666667\n",
       "\n",
       "[85 rows x 3 columns]"
      ]
     },
     "execution_count": 26,
     "metadata": {},
     "output_type": "execute_result"
    }
   ],
   "source": [
    "df_team_strength"
   ]
  },
  {
   "cell_type": "markdown",
   "id": "2a768bf6",
   "metadata": {},
   "source": [
    "#### Construimos una función para predecir con la distribución de Poisson."
   ]
  },
  {
   "cell_type": "code",
   "execution_count": 125,
   "id": "818f22fc",
   "metadata": {},
   "outputs": [],
   "source": [
    "def predict_points(home, away):\n",
    "    if home in df_team_strength.Team.unique() and away in df_team_strength.Team.unique():\n",
    "\n",
    "        lamb_home = df_team_strength.loc[df_team_strength[\"Team\"]==home,\"Goalsscored\"].values[0] \\\n",
    "                                            * df_team_strength.loc[df_team_strength[\"Team\"]==away,\"Goalsrecieved\"].values[0]\n",
    "        \n",
    "        lamb_away = df_team_strength.loc[df_team_strength[\"Team\"]==away,\"Goalsscored\"].values[0]\\\n",
    "                                            * df_team_strength.loc[df_team_strength[\"Team\"]==home,\"Goalsrecieved\"].values[0]\n",
    "        prob_home, prob_away, prob_draw = 0, 0, 0\n",
    "        for x in range(0,11):\n",
    "            for y in range(0, 11):\n",
    "                p = poisson.pmf(x, lamb_home) * poisson.pmf(y, lamb_away)\n",
    "                if x == y:\n",
    "                    prob_draw += p\n",
    "                elif x > y:\n",
    "                    prob_home += p\n",
    "                else:\n",
    "                    prob_away += p\n",
    "        \n",
    "        points_home = 3 * prob_home + prob_draw\n",
    "        points_away = 3 * prob_away + prob_draw\n",
    "        return (points_home, points_away)\n",
    "    else:\n",
    "        return (0, 0)"
   ]
  },
  {
   "cell_type": "markdown",
   "id": "d1e94685",
   "metadata": {},
   "source": [
    "#### Testeamos la función"
   ]
  },
  {
   "cell_type": "code",
   "execution_count": 128,
   "id": "4ffaff26",
   "metadata": {},
   "outputs": [
    {
     "name": "stdout",
     "output_type": "stream",
     "text": [
      "(2.3129151525530505, 0.5378377125059863)\n",
      "(1.4695837906683096, 1.3159335527729064)\n",
      "(1.8383363476307306, 0.9760309434418984)\n"
     ]
    }
   ],
   "source": [
    "print(predict_points(\"Argentina\",\"Mexico\"))\n",
    "print(predict_points(\"Argentina\",\"Spain\"))\n",
    "print(predict_points(\"France\",\"Sweden\"))"
   ]
  },
  {
   "cell_type": "markdown",
   "id": "d076afd7",
   "metadata": {},
   "source": [
    "#### Predieciendo el mundial"
   ]
  },
  {
   "cell_type": "code",
   "execution_count": 130,
   "id": "b7028721",
   "metadata": {},
   "outputs": [],
   "source": [
    "df_actual_data_group_48 = df_actual_data[:48].copy()\n",
    "df_actual_data_knockout = df_actual_data[48:56].copy()\n",
    "df_actual_data_quarter = df_actual_data[56:60].copy()\n",
    "df_actual_data_semi = df_actual_data[60:62].copy()\n",
    "df_actual_data_final = df_actual_data[62:].copy()"
   ]
  },
  {
   "cell_type": "markdown",
   "id": "08365125",
   "metadata": {},
   "source": [
    "#### Fase de grupos"
   ]
  },
  {
   "cell_type": "code",
   "execution_count": 149,
   "id": "ca7c142a",
   "metadata": {},
   "outputs": [],
   "source": [
    "for group in dict_table:\n",
    "    teams_in_group = dict_table[group]['Team'].values\n",
    "    df_actual_data_group_6 = df_actual_data_group_48[df_actual_data_group_48['home'].isin(teams_in_group)]\n",
    "    for index, row in df_actual_data_group_6.iterrows():\n",
    "        home, away = row['home'], row['away']\n",
    "        points_home, points_away = predict_points(home, away)\n",
    "        dict_table[group].loc[dict_table[group]['Team'] == home, 'Pts'] += points_home\n",
    "        dict_table[group].loc[dict_table[group]['Team'] == away, 'Pts'] += points_away\n",
    "\n",
    "    dict_table[group] = dict_table[group].sort_values('Pts', ascending=False).reset_index()\n",
    "    dict_table[group] = dict_table[group][['Team', 'Pts']]\n",
    "    dict_table[group] = dict_table[group].round(0)"
   ]
  },
  {
   "cell_type": "code",
   "execution_count": 154,
   "id": "dd75c6ce",
   "metadata": {},
   "outputs": [
    {
     "name": "stdout",
     "output_type": "stream",
     "text": [
      "{'Grupo A':           Team  Pts\n",
      "0  Netherlands  4.0\n",
      "1      Senegal  2.0\n",
      "2      Ecuador  2.0\n",
      "3    Qatar (H)  0.0, 'Grupo B':             Team  Pts\n",
      "0        England  6.0\n",
      "1          Wales  3.0\n",
      "2           Iran  2.0\n",
      "3  United States  0.0, 'Grupo C':            Team  Pts\n",
      "0     Argentina  7.0\n",
      "1        Poland  6.0\n",
      "2        Mexico  1.0\n",
      "3  Saudi Arabia  0.0, 'Grupo D':         Team  Pts\n",
      "0     France  7.0\n",
      "1    Denmark  6.0\n",
      "2    Tunisia  3.0\n",
      "3  Australia  2.0, 'Grupo E':          Team  Pts\n",
      "0       Spain  5.0\n",
      "1     Germany  4.0\n",
      "2       Japan  3.0\n",
      "3  Costa Rica  0.0, 'Grupo F':       Team  Pts\n",
      "0  Croatia  7.0\n",
      "1  Belgium  6.0\n",
      "2  Morocco  4.0\n",
      "3   Canada  0.0, 'Grupo G':           Team  Pts\n",
      "0       Brazil  8.0\n",
      "1  Switzerland  4.0\n",
      "2       Serbia  3.0\n",
      "3     Cameroon  2.0, 'Grupo H':           Team  Pts\n",
      "0      Uruguay  5.0\n",
      "1     Portugal  4.0\n",
      "2        Ghana  2.0\n",
      "3  South Korea  0.0}\n"
     ]
    }
   ],
   "source": [
    "print(dict_table)"
   ]
  },
  {
   "cell_type": "markdown",
   "id": "5b5073bf",
   "metadata": {},
   "source": [
    "#### Knockout"
   ]
  },
  {
   "cell_type": "code",
   "execution_count": 181,
   "id": "21d16f21",
   "metadata": {},
   "outputs": [
    {
     "name": "stdout",
     "output_type": "stream",
     "text": [
      "           home     score         away  year winner\n",
      "48  Netherlands  Match 49        Wales  2022      ?\n",
      "49    Argentina  Match 50      Denmark  2022      ?\n",
      "50       France  Match 52       Poland  2022      ?\n",
      "51      England  Match 51      Senegal  2022      ?\n",
      "52        Spain  Match 53      Belgium  2022      ?\n",
      "53       Brazil  Match 54     Portugal  2022      ?\n",
      "54      Croatia  Match 55      Germany  2022      ?\n",
      "55      Uruguay  Match 56  Switzerland  2022      ?\n"
     ]
    }
   ],
   "source": [
    "for group in dict_table:\n",
    "    group_winner = dict_table[group].loc[0, 'Team']\n",
    "    runners_up = dict_table[group].loc[1, 'Team']\n",
    "    group=group.replace(\" \",\"\")\n",
    "    group=group.replace(\"Grupo\",\"Group\")\n",
    "    df_actual_data_knockout.home.replace({f'Winners{group}':group_winner}, inplace=True)\n",
    "    df_actual_data_knockout.away.replace({f'Runners-up{group}':runners_up}, inplace=True)\n",
    "\n",
    "df_actual_data_knockout['winner'] = '?'\n",
    "print(df_actual_data_knockout)"
   ]
  },
  {
   "cell_type": "code",
   "execution_count": 188,
   "id": "7529d127",
   "metadata": {},
   "outputs": [],
   "source": [
    "def get_winner(df_actual_data_updated):\n",
    "    for index, row in df_actual_data_updated.iterrows():\n",
    "        home, away = row['home'], row['away']\n",
    "        points_home, points_away = predict_points(home, away)\n",
    "        if points_home > points_away:\n",
    "            winner = home\n",
    "        else:\n",
    "            winner = away\n",
    "        df_actual_data_updated.loc[index, 'winner'] = winner\n",
    "    return df_actual_data_updated"
   ]
  },
  {
   "cell_type": "code",
   "execution_count": 189,
   "id": "965c95cc",
   "metadata": {},
   "outputs": [
    {
     "data": {
      "text/html": [
       "<div>\n",
       "<style scoped>\n",
       "    .dataframe tbody tr th:only-of-type {\n",
       "        vertical-align: middle;\n",
       "    }\n",
       "\n",
       "    .dataframe tbody tr th {\n",
       "        vertical-align: top;\n",
       "    }\n",
       "\n",
       "    .dataframe thead th {\n",
       "        text-align: right;\n",
       "    }\n",
       "</style>\n",
       "<table border=\"1\" class=\"dataframe\">\n",
       "  <thead>\n",
       "    <tr style=\"text-align: right;\">\n",
       "      <th></th>\n",
       "      <th>home</th>\n",
       "      <th>score</th>\n",
       "      <th>away</th>\n",
       "      <th>year</th>\n",
       "      <th>winner</th>\n",
       "    </tr>\n",
       "  </thead>\n",
       "  <tbody>\n",
       "    <tr>\n",
       "      <th>48</th>\n",
       "      <td>Netherlands</td>\n",
       "      <td>Match 49</td>\n",
       "      <td>Wales</td>\n",
       "      <td>2022</td>\n",
       "      <td>Netherlands</td>\n",
       "    </tr>\n",
       "    <tr>\n",
       "      <th>49</th>\n",
       "      <td>Argentina</td>\n",
       "      <td>Match 50</td>\n",
       "      <td>Denmark</td>\n",
       "      <td>2022</td>\n",
       "      <td>Argentina</td>\n",
       "    </tr>\n",
       "    <tr>\n",
       "      <th>50</th>\n",
       "      <td>France</td>\n",
       "      <td>Match 52</td>\n",
       "      <td>Poland</td>\n",
       "      <td>2022</td>\n",
       "      <td>France</td>\n",
       "    </tr>\n",
       "    <tr>\n",
       "      <th>51</th>\n",
       "      <td>England</td>\n",
       "      <td>Match 51</td>\n",
       "      <td>Senegal</td>\n",
       "      <td>2022</td>\n",
       "      <td>England</td>\n",
       "    </tr>\n",
       "    <tr>\n",
       "      <th>52</th>\n",
       "      <td>Spain</td>\n",
       "      <td>Match 53</td>\n",
       "      <td>Belgium</td>\n",
       "      <td>2022</td>\n",
       "      <td>Spain</td>\n",
       "    </tr>\n",
       "    <tr>\n",
       "      <th>53</th>\n",
       "      <td>Brazil</td>\n",
       "      <td>Match 54</td>\n",
       "      <td>Portugal</td>\n",
       "      <td>2022</td>\n",
       "      <td>Brazil</td>\n",
       "    </tr>\n",
       "    <tr>\n",
       "      <th>54</th>\n",
       "      <td>Croatia</td>\n",
       "      <td>Match 55</td>\n",
       "      <td>Germany</td>\n",
       "      <td>2022</td>\n",
       "      <td>Germany</td>\n",
       "    </tr>\n",
       "    <tr>\n",
       "      <th>55</th>\n",
       "      <td>Uruguay</td>\n",
       "      <td>Match 56</td>\n",
       "      <td>Switzerland</td>\n",
       "      <td>2022</td>\n",
       "      <td>Uruguay</td>\n",
       "    </tr>\n",
       "  </tbody>\n",
       "</table>\n",
       "</div>"
      ],
      "text/plain": [
       "           home     score         away  year       winner\n",
       "48  Netherlands  Match 49        Wales  2022  Netherlands\n",
       "49    Argentina  Match 50      Denmark  2022    Argentina\n",
       "50       France  Match 52       Poland  2022       France\n",
       "51      England  Match 51      Senegal  2022      England\n",
       "52        Spain  Match 53      Belgium  2022        Spain\n",
       "53       Brazil  Match 54     Portugal  2022       Brazil\n",
       "54      Croatia  Match 55      Germany  2022      Germany\n",
       "55      Uruguay  Match 56  Switzerland  2022      Uruguay"
      ]
     },
     "execution_count": 189,
     "metadata": {},
     "output_type": "execute_result"
    }
   ],
   "source": [
    "get_winner(df_actual_data_knockout)"
   ]
  },
  {
   "cell_type": "markdown",
   "id": "8f8981d7",
   "metadata": {},
   "source": [
    "#### Quarter finals"
   ]
  },
  {
   "cell_type": "code",
   "execution_count": 197,
   "id": "33c871a9",
   "metadata": {},
   "outputs": [],
   "source": [
    "def update_table(df_fixture_round_1, df_fixture_round_2):\n",
    "    for index, row in df_fixture_round_1.iterrows():\n",
    "        winner = df_fixture_round_1.loc[index, 'winner']\n",
    "        match = df_fixture_round_1.loc[index, 'score']\n",
    "        match = match.replace(\" \",\"\")\n",
    "        df_fixture_round_2.home.replace({f'Winners{match}':winner}, inplace=True)\n",
    "        df_fixture_round_2.away.replace({f'Winners{match}':winner}, inplace=True)\n",
    "    df_fixture_round_2['winner'] = '?'\n",
    "    return df_fixture_round_2"
   ]
  },
  {
   "cell_type": "code",
   "execution_count": 198,
   "id": "7a2bcb98",
   "metadata": {},
   "outputs": [
    {
     "data": {
      "text/html": [
       "<div>\n",
       "<style scoped>\n",
       "    .dataframe tbody tr th:only-of-type {\n",
       "        vertical-align: middle;\n",
       "    }\n",
       "\n",
       "    .dataframe tbody tr th {\n",
       "        vertical-align: top;\n",
       "    }\n",
       "\n",
       "    .dataframe thead th {\n",
       "        text-align: right;\n",
       "    }\n",
       "</style>\n",
       "<table border=\"1\" class=\"dataframe\">\n",
       "  <thead>\n",
       "    <tr style=\"text-align: right;\">\n",
       "      <th></th>\n",
       "      <th>home</th>\n",
       "      <th>score</th>\n",
       "      <th>away</th>\n",
       "      <th>year</th>\n",
       "      <th>winner</th>\n",
       "    </tr>\n",
       "  </thead>\n",
       "  <tbody>\n",
       "    <tr>\n",
       "      <th>56</th>\n",
       "      <td>Spain</td>\n",
       "      <td>Match 58</td>\n",
       "      <td>Brazil</td>\n",
       "      <td>2022</td>\n",
       "      <td>?</td>\n",
       "    </tr>\n",
       "    <tr>\n",
       "      <th>57</th>\n",
       "      <td>Netherlands</td>\n",
       "      <td>Match 57</td>\n",
       "      <td>Argentina</td>\n",
       "      <td>2022</td>\n",
       "      <td>?</td>\n",
       "    </tr>\n",
       "    <tr>\n",
       "      <th>58</th>\n",
       "      <td>Germany</td>\n",
       "      <td>Match 60</td>\n",
       "      <td>Uruguay</td>\n",
       "      <td>2022</td>\n",
       "      <td>?</td>\n",
       "    </tr>\n",
       "    <tr>\n",
       "      <th>59</th>\n",
       "      <td>England</td>\n",
       "      <td>Match 59</td>\n",
       "      <td>France</td>\n",
       "      <td>2022</td>\n",
       "      <td>?</td>\n",
       "    </tr>\n",
       "  </tbody>\n",
       "</table>\n",
       "</div>"
      ],
      "text/plain": [
       "           home     score       away  year winner\n",
       "56        Spain  Match 58     Brazil  2022      ?\n",
       "57  Netherlands  Match 57  Argentina  2022      ?\n",
       "58      Germany  Match 60    Uruguay  2022      ?\n",
       "59      England  Match 59     France  2022      ?"
      ]
     },
     "execution_count": 198,
     "metadata": {},
     "output_type": "execute_result"
    }
   ],
   "source": [
    "update_table(df_actual_data_knockout, df_actual_data_quarter)"
   ]
  },
  {
   "cell_type": "code",
   "execution_count": 199,
   "id": "7e2a3321",
   "metadata": {},
   "outputs": [
    {
     "data": {
      "text/html": [
       "<div>\n",
       "<style scoped>\n",
       "    .dataframe tbody tr th:only-of-type {\n",
       "        vertical-align: middle;\n",
       "    }\n",
       "\n",
       "    .dataframe tbody tr th {\n",
       "        vertical-align: top;\n",
       "    }\n",
       "\n",
       "    .dataframe thead th {\n",
       "        text-align: right;\n",
       "    }\n",
       "</style>\n",
       "<table border=\"1\" class=\"dataframe\">\n",
       "  <thead>\n",
       "    <tr style=\"text-align: right;\">\n",
       "      <th></th>\n",
       "      <th>home</th>\n",
       "      <th>score</th>\n",
       "      <th>away</th>\n",
       "      <th>year</th>\n",
       "      <th>winner</th>\n",
       "    </tr>\n",
       "  </thead>\n",
       "  <tbody>\n",
       "    <tr>\n",
       "      <th>56</th>\n",
       "      <td>Spain</td>\n",
       "      <td>Match 58</td>\n",
       "      <td>Brazil</td>\n",
       "      <td>2022</td>\n",
       "      <td>Brazil</td>\n",
       "    </tr>\n",
       "    <tr>\n",
       "      <th>57</th>\n",
       "      <td>Netherlands</td>\n",
       "      <td>Match 57</td>\n",
       "      <td>Argentina</td>\n",
       "      <td>2022</td>\n",
       "      <td>Netherlands</td>\n",
       "    </tr>\n",
       "    <tr>\n",
       "      <th>58</th>\n",
       "      <td>Germany</td>\n",
       "      <td>Match 60</td>\n",
       "      <td>Uruguay</td>\n",
       "      <td>2022</td>\n",
       "      <td>Germany</td>\n",
       "    </tr>\n",
       "    <tr>\n",
       "      <th>59</th>\n",
       "      <td>England</td>\n",
       "      <td>Match 59</td>\n",
       "      <td>France</td>\n",
       "      <td>2022</td>\n",
       "      <td>France</td>\n",
       "    </tr>\n",
       "  </tbody>\n",
       "</table>\n",
       "</div>"
      ],
      "text/plain": [
       "           home     score       away  year       winner\n",
       "56        Spain  Match 58     Brazil  2022       Brazil\n",
       "57  Netherlands  Match 57  Argentina  2022  Netherlands\n",
       "58      Germany  Match 60    Uruguay  2022      Germany\n",
       "59      England  Match 59     France  2022       France"
      ]
     },
     "execution_count": 199,
     "metadata": {},
     "output_type": "execute_result"
    }
   ],
   "source": [
    "get_winner(df_actual_data_quarter)"
   ]
  },
  {
   "cell_type": "markdown",
   "id": "6d8a9052",
   "metadata": {},
   "source": [
    "#### Semifinals"
   ]
  },
  {
   "cell_type": "code",
   "execution_count": 201,
   "id": "96a87257",
   "metadata": {},
   "outputs": [
    {
     "data": {
      "text/html": [
       "<div>\n",
       "<style scoped>\n",
       "    .dataframe tbody tr th:only-of-type {\n",
       "        vertical-align: middle;\n",
       "    }\n",
       "\n",
       "    .dataframe tbody tr th {\n",
       "        vertical-align: top;\n",
       "    }\n",
       "\n",
       "    .dataframe thead th {\n",
       "        text-align: right;\n",
       "    }\n",
       "</style>\n",
       "<table border=\"1\" class=\"dataframe\">\n",
       "  <thead>\n",
       "    <tr style=\"text-align: right;\">\n",
       "      <th></th>\n",
       "      <th>home</th>\n",
       "      <th>score</th>\n",
       "      <th>away</th>\n",
       "      <th>year</th>\n",
       "      <th>winner</th>\n",
       "    </tr>\n",
       "  </thead>\n",
       "  <tbody>\n",
       "    <tr>\n",
       "      <th>60</th>\n",
       "      <td>Netherlands</td>\n",
       "      <td>Match 61</td>\n",
       "      <td>Brazil</td>\n",
       "      <td>2022</td>\n",
       "      <td>?</td>\n",
       "    </tr>\n",
       "    <tr>\n",
       "      <th>61</th>\n",
       "      <td>France</td>\n",
       "      <td>Match 62</td>\n",
       "      <td>Germany</td>\n",
       "      <td>2022</td>\n",
       "      <td>?</td>\n",
       "    </tr>\n",
       "  </tbody>\n",
       "</table>\n",
       "</div>"
      ],
      "text/plain": [
       "           home     score     away  year winner\n",
       "60  Netherlands  Match 61   Brazil  2022      ?\n",
       "61       France  Match 62  Germany  2022      ?"
      ]
     },
     "execution_count": 201,
     "metadata": {},
     "output_type": "execute_result"
    }
   ],
   "source": [
    "\n",
    "update_table(df_actual_data_quarter, df_actual_data_semi)"
   ]
  },
  {
   "cell_type": "code",
   "execution_count": 202,
   "id": "7dc1b44c",
   "metadata": {},
   "outputs": [
    {
     "data": {
      "text/html": [
       "<div>\n",
       "<style scoped>\n",
       "    .dataframe tbody tr th:only-of-type {\n",
       "        vertical-align: middle;\n",
       "    }\n",
       "\n",
       "    .dataframe tbody tr th {\n",
       "        vertical-align: top;\n",
       "    }\n",
       "\n",
       "    .dataframe thead th {\n",
       "        text-align: right;\n",
       "    }\n",
       "</style>\n",
       "<table border=\"1\" class=\"dataframe\">\n",
       "  <thead>\n",
       "    <tr style=\"text-align: right;\">\n",
       "      <th></th>\n",
       "      <th>home</th>\n",
       "      <th>score</th>\n",
       "      <th>away</th>\n",
       "      <th>year</th>\n",
       "      <th>winner</th>\n",
       "    </tr>\n",
       "  </thead>\n",
       "  <tbody>\n",
       "    <tr>\n",
       "      <th>60</th>\n",
       "      <td>Netherlands</td>\n",
       "      <td>Match 61</td>\n",
       "      <td>Brazil</td>\n",
       "      <td>2022</td>\n",
       "      <td>Brazil</td>\n",
       "    </tr>\n",
       "    <tr>\n",
       "      <th>61</th>\n",
       "      <td>France</td>\n",
       "      <td>Match 62</td>\n",
       "      <td>Germany</td>\n",
       "      <td>2022</td>\n",
       "      <td>Germany</td>\n",
       "    </tr>\n",
       "  </tbody>\n",
       "</table>\n",
       "</div>"
      ],
      "text/plain": [
       "           home     score     away  year   winner\n",
       "60  Netherlands  Match 61   Brazil  2022   Brazil\n",
       "61       France  Match 62  Germany  2022  Germany"
      ]
     },
     "execution_count": 202,
     "metadata": {},
     "output_type": "execute_result"
    }
   ],
   "source": [
    "get_winner(df_actual_data_semi)"
   ]
  },
  {
   "cell_type": "markdown",
   "id": "fcf551a5",
   "metadata": {},
   "source": [
    "#### Final"
   ]
  },
  {
   "cell_type": "code",
   "execution_count": 203,
   "id": "174bfa09",
   "metadata": {},
   "outputs": [
    {
     "data": {
      "text/html": [
       "<div>\n",
       "<style scoped>\n",
       "    .dataframe tbody tr th:only-of-type {\n",
       "        vertical-align: middle;\n",
       "    }\n",
       "\n",
       "    .dataframe tbody tr th {\n",
       "        vertical-align: top;\n",
       "    }\n",
       "\n",
       "    .dataframe thead th {\n",
       "        text-align: right;\n",
       "    }\n",
       "</style>\n",
       "<table border=\"1\" class=\"dataframe\">\n",
       "  <thead>\n",
       "    <tr style=\"text-align: right;\">\n",
       "      <th></th>\n",
       "      <th>home</th>\n",
       "      <th>score</th>\n",
       "      <th>away</th>\n",
       "      <th>year</th>\n",
       "      <th>winner</th>\n",
       "    </tr>\n",
       "  </thead>\n",
       "  <tbody>\n",
       "    <tr>\n",
       "      <th>62</th>\n",
       "      <td>LosersMatch61</td>\n",
       "      <td>Match 63</td>\n",
       "      <td>LosersMatch62</td>\n",
       "      <td>2022</td>\n",
       "      <td>?</td>\n",
       "    </tr>\n",
       "    <tr>\n",
       "      <th>63</th>\n",
       "      <td>Brazil</td>\n",
       "      <td>Match 64</td>\n",
       "      <td>Germany</td>\n",
       "      <td>2022</td>\n",
       "      <td>?</td>\n",
       "    </tr>\n",
       "  </tbody>\n",
       "</table>\n",
       "</div>"
      ],
      "text/plain": [
       "             home     score           away  year winner\n",
       "62  LosersMatch61  Match 63  LosersMatch62  2022      ?\n",
       "63         Brazil  Match 64        Germany  2022      ?"
      ]
     },
     "execution_count": 203,
     "metadata": {},
     "output_type": "execute_result"
    }
   ],
   "source": [
    "update_table(df_actual_data_semi, df_actual_data_final)"
   ]
  },
  {
   "cell_type": "code",
   "execution_count": 204,
   "id": "b0df38c0",
   "metadata": {},
   "outputs": [
    {
     "data": {
      "text/html": [
       "<div>\n",
       "<style scoped>\n",
       "    .dataframe tbody tr th:only-of-type {\n",
       "        vertical-align: middle;\n",
       "    }\n",
       "\n",
       "    .dataframe tbody tr th {\n",
       "        vertical-align: top;\n",
       "    }\n",
       "\n",
       "    .dataframe thead th {\n",
       "        text-align: right;\n",
       "    }\n",
       "</style>\n",
       "<table border=\"1\" class=\"dataframe\">\n",
       "  <thead>\n",
       "    <tr style=\"text-align: right;\">\n",
       "      <th></th>\n",
       "      <th>home</th>\n",
       "      <th>score</th>\n",
       "      <th>away</th>\n",
       "      <th>year</th>\n",
       "      <th>winner</th>\n",
       "    </tr>\n",
       "  </thead>\n",
       "  <tbody>\n",
       "    <tr>\n",
       "      <th>62</th>\n",
       "      <td>LosersMatch61</td>\n",
       "      <td>Match 63</td>\n",
       "      <td>LosersMatch62</td>\n",
       "      <td>2022</td>\n",
       "      <td>LosersMatch62</td>\n",
       "    </tr>\n",
       "    <tr>\n",
       "      <th>63</th>\n",
       "      <td>Brazil</td>\n",
       "      <td>Match 64</td>\n",
       "      <td>Germany</td>\n",
       "      <td>2022</td>\n",
       "      <td>Brazil</td>\n",
       "    </tr>\n",
       "  </tbody>\n",
       "</table>\n",
       "</div>"
      ],
      "text/plain": [
       "             home     score           away  year         winner\n",
       "62  LosersMatch61  Match 63  LosersMatch62  2022  LosersMatch62\n",
       "63         Brazil  Match 64        Germany  2022         Brazil"
      ]
     },
     "execution_count": 204,
     "metadata": {},
     "output_type": "execute_result"
    }
   ],
   "source": [
    "get_winner(df_actual_data_final)"
   ]
  }
 ],
 "metadata": {
  "kernelspec": {
   "display_name": "Python 3 (ipykernel)",
   "language": "python",
   "name": "python3"
  },
  "language_info": {
   "codemirror_mode": {
    "name": "ipython",
    "version": 3
   },
   "file_extension": ".py",
   "mimetype": "text/x-python",
   "name": "python",
   "nbconvert_exporter": "python",
   "pygments_lexer": "ipython3",
   "version": "3.11.3"
  }
 },
 "nbformat": 4,
 "nbformat_minor": 5
}
