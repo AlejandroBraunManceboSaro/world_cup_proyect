{
 "cells": [
  {
   "cell_type": "markdown",
   "id": "ac4d891d",
   "metadata": {},
   "source": [
    "# Limpiando Data"
   ]
  },
  {
   "cell_type": "code",
   "execution_count": 1,
   "id": "7c918ae1",
   "metadata": {},
   "outputs": [],
   "source": [
    "import pandas as pd"
   ]
  },
  {
   "cell_type": "code",
   "execution_count": 5,
   "id": "64469b6f",
   "metadata": {},
   "outputs": [],
   "source": [
    "df_data_historica=pd.read_csv(\"mundiales.csv\")\n",
    "df_data_actual=pd.read_csv(\"fifa_worldcup_fixture.csv\")"
   ]
  },
  {
   "cell_type": "code",
   "execution_count": 21,
   "id": "7cb25f4d",
   "metadata": {},
   "outputs": [
    {
     "data": {
      "text/plain": [
       "array(['Qatar\\xa0', 'Senegal\\xa0', 'Netherlands\\xa0', 'Ecuador\\xa0',\n",
       "       'England\\xa0', 'United States\\xa0', 'Wales\\xa0', 'Iran\\xa0',\n",
       "       'Argentina\\xa0', 'Mexico\\xa0', 'Poland\\xa0', 'Saudi Arabia\\xa0',\n",
       "       'Denmark\\xa0', 'France\\xa0', 'Tunisia\\xa0', 'Australia\\xa0',\n",
       "       'Germany\\xa0', 'Spain\\xa0', 'Japan\\xa0', 'Costa Rica\\xa0',\n",
       "       'Morocco\\xa0', 'Belgium\\xa0', 'Croatia\\xa0', 'Canada\\xa0',\n",
       "       'Switzerland\\xa0', 'Brazil\\xa0', 'Cameroon\\xa0', 'Serbia\\xa0',\n",
       "       'Uruguay\\xa0', 'Portugal\\xa0', 'South Korea\\xa0', 'Ghana\\xa0',\n",
       "       'Winners Group A', 'Winners Group C', 'Winners Group D',\n",
       "       'Winners Group B', 'Winners Group E', 'Winners Group G',\n",
       "       'Winners Group F', 'Winners Group H', 'Winners Match 53',\n",
       "       'Winners Match 49', 'Winners Match 55', 'Winners Match 51',\n",
       "       'Winners Match 57', 'Winners Match 59', 'Losers Match 61',\n",
       "       'Winners Match 61'], dtype=object)"
      ]
     },
     "execution_count": 21,
     "metadata": {},
     "output_type": "execute_result"
    }
   ],
   "source": [
    "df_data_actual.home.unique()"
   ]
  },
  {
   "cell_type": "code",
   "execution_count": 24,
   "id": "881190bb",
   "metadata": {},
   "outputs": [
    {
     "name": "stdout",
     "output_type": "stream",
     "text": [
      "home\n",
      "score\n",
      "away\n",
      "year\n"
     ]
    }
   ],
   "source": [
    "for  i  in df_data_actual.columns:\n",
    "    print(i)"
   ]
  },
  {
   "cell_type": "markdown",
   "id": "ae0aee34",
   "metadata": {},
   "source": [
    "### Limpiando df_data_actual"
   ]
  },
  {
   "cell_type": "code",
   "execution_count": 25,
   "id": "cbfabc9e",
   "metadata": {},
   "outputs": [
    {
     "name": "stdout",
     "output_type": "stream",
     "text": [
      "----------------------------home--------------------\n",
      "['Qatar\\xa0' 'Senegal\\xa0' 'Netherlands\\xa0' 'Ecuador\\xa0' 'England\\xa0'\n",
      " 'United States\\xa0' 'Wales\\xa0' 'Iran\\xa0' 'Argentina\\xa0' 'Mexico\\xa0'\n",
      " 'Poland\\xa0' 'Saudi Arabia\\xa0' 'Denmark\\xa0' 'France\\xa0' 'Tunisia\\xa0'\n",
      " 'Australia\\xa0' 'Germany\\xa0' 'Spain\\xa0' 'Japan\\xa0' 'Costa Rica\\xa0'\n",
      " 'Morocco\\xa0' 'Belgium\\xa0' 'Croatia\\xa0' 'Canada\\xa0' 'Switzerland\\xa0'\n",
      " 'Brazil\\xa0' 'Cameroon\\xa0' 'Serbia\\xa0' 'Uruguay\\xa0' 'Portugal\\xa0'\n",
      " 'South Korea\\xa0' 'Ghana\\xa0' 'Winners Group A' 'Winners Group C'\n",
      " 'Winners Group D' 'Winners Group B' 'Winners Group E' 'Winners Group G'\n",
      " 'Winners Group F' 'Winners Group H' 'Winners Match 53' 'Winners Match 49'\n",
      " 'Winners Match 55' 'Winners Match 51' 'Winners Match 57'\n",
      " 'Winners Match 59' 'Losers Match 61' 'Winners Match 61']\n",
      "----------------------------score--------------------\n",
      "['Match 1' 'Match 2' 'Match 18' 'Match 19' 'Match 35' 'Match 36' 'Match 3'\n",
      " 'Match 4' 'Match 17' 'Match 20' 'Match 33' 'Match 34' 'Match 8' 'Match 7'\n",
      " 'Match 22' 'Match 24' 'Match 39' 'Match 40' 'Match 6' 'Match 5'\n",
      " 'Match 21' 'Match 23' 'Match 37' 'Match 38' 'Match 11' 'Match 10'\n",
      " 'Match 25' 'Match 28' 'Match 43' 'Match 44' 'Match 12' 'Match 9'\n",
      " 'Match 26' 'Match 27' 'Match 41' 'Match 42' 'Match 13' 'Match 16'\n",
      " 'Match 29' 'Match 31' 'Match 47' 'Match 48' 'Match 14' 'Match 15'\n",
      " 'Match 30' 'Match 32' 'Match 45' 'Match 46' 'Match 49' 'Match 50'\n",
      " 'Match 52' 'Match 51' 'Match 53' 'Match 54' 'Match 55' 'Match 56'\n",
      " 'Match 58' 'Match 57' 'Match 60' 'Match 59' 'Match 61' 'Match 62'\n",
      " 'Match 63' 'Match 64']\n",
      "----------------------------away--------------------\n",
      "['\\xa0Ecuador' '\\xa0Netherlands' '\\xa0Senegal' '\\xa0Qatar' '\\xa0Iran'\n",
      " '\\xa0Wales' '\\xa0United States' '\\xa0England' '\\xa0Saudi Arabia'\n",
      " '\\xa0Poland' '\\xa0Mexico' '\\xa0Argentina' '\\xa0Tunisia' '\\xa0Australia'\n",
      " '\\xa0Denmark' '\\xa0France' '\\xa0Japan' '\\xa0Costa Rica' '\\xa0Germany'\n",
      " '\\xa0Spain' '\\xa0Croatia' '\\xa0Canada' '\\xa0Morocco' '\\xa0Belgium'\n",
      " '\\xa0Cameroon' '\\xa0Serbia' '\\xa0Switzerland' '\\xa0Brazil'\n",
      " '\\xa0South Korea' '\\xa0Ghana' '\\xa0Uruguay' '\\xa0Portugal'\n",
      " 'Runners-up Group B' 'Runners-up Group D' 'Runners-up Group C'\n",
      " 'Runners-up Group A' 'Runners-up Group F' 'Runners-up Group H'\n",
      " 'Runners-up Group E' 'Runners-up Group G' 'Winners Match 54'\n",
      " 'Winners Match 50' 'Winners Match 56' 'Winners Match 52'\n",
      " 'Winners Match 58' 'Winners Match 60' 'Losers Match 62'\n",
      " 'Winners Match 62']\n",
      "----------------------------year--------------------\n",
      "[2022]\n"
     ]
    }
   ],
   "source": [
    "for i in df_data_actual.columns:\n",
    "    print(\"----------------------------{}--------------------\".format(i))\n",
    "    print(df_data_actual[str(i)].unique())"
   ]
  },
  {
   "cell_type": "markdown",
   "id": "4b436328",
   "metadata": {},
   "source": [
    "#### Hay, tanto en home como en away, huecos en blanco en los valores. Los eliminamos."
   ]
  },
  {
   "cell_type": "code",
   "execution_count": 30,
   "id": "c34a463e",
   "metadata": {},
   "outputs": [
    {
     "name": "stdout",
     "output_type": "stream",
     "text": [
      "['Ecuador' 'Netherlands' 'Senegal' 'Qatar' 'Iran' 'Wales' 'United States'\n",
      " 'England' 'Saudi Arabia' 'Poland' 'Mexico' 'Argentina' 'Tunisia'\n",
      " 'Australia' 'Denmark' 'France' 'Japan' 'Costa Rica' 'Germany' 'Spain'\n",
      " 'Croatia' 'Canada' 'Morocco' 'Belgium' 'Cameroon' 'Serbia' 'Switzerland'\n",
      " 'Brazil' 'South Korea' 'Ghana' 'Uruguay' 'Portugal' 'Runners-up Group B'\n",
      " 'Runners-up Group D' 'Runners-up Group C' 'Runners-up Group A'\n",
      " 'Runners-up Group F' 'Runners-up Group H' 'Runners-up Group E'\n",
      " 'Runners-up Group G' 'Winners Match 54' 'Winners Match 50'\n",
      " 'Winners Match 56' 'Winners Match 52' 'Winners Match 58'\n",
      " 'Winners Match 60' 'Losers Match 62' 'Winners Match 62']\n",
      "['Qatar' 'Senegal' 'Netherlands' 'Ecuador' 'England' 'United States'\n",
      " 'Wales' 'Iran' 'Argentina' 'Mexico' 'Poland' 'Saudi Arabia' 'Denmark'\n",
      " 'France' 'Tunisia' 'Australia' 'Germany' 'Spain' 'Japan' 'Costa Rica'\n",
      " 'Morocco' 'Belgium' 'Croatia' 'Canada' 'Switzerland' 'Brazil' 'Cameroon'\n",
      " 'Serbia' 'Uruguay' 'Portugal' 'South Korea' 'Ghana' 'Winners Group A'\n",
      " 'Winners Group C' 'Winners Group D' 'Winners Group B' 'Winners Group E'\n",
      " 'Winners Group G' 'Winners Group F' 'Winners Group H' 'Winners Match 53'\n",
      " 'Winners Match 49' 'Winners Match 55' 'Winners Match 51'\n",
      " 'Winners Match 57' 'Winners Match 59' 'Losers Match 61'\n",
      " 'Winners Match 61']\n"
     ]
    }
   ],
   "source": [
    "df_data_actual[\"home\"]=df_data_actual[\"home\"].str.strip()\n",
    "df_data_actual[\"away\"]=df_data_actual[\"away\"].str.strip()\n",
    "print(df_data_actual.away.unique())\n",
    "print(df_data_actual.home.unique())"
   ]
  },
  {
   "cell_type": "markdown",
   "id": "bc57daa1",
   "metadata": {},
   "source": [
    "#### Limpiando df_data_historica."
   ]
  },
  {
   "cell_type": "code",
   "execution_count": 38,
   "id": "544e61fa",
   "metadata": {},
   "outputs": [
    {
     "data": {
      "text/plain": [
       "home     False\n",
       "score    False\n",
       "away     False\n",
       "year     False\n",
       "dtype: bool"
      ]
     },
     "execution_count": 38,
     "metadata": {},
     "output_type": "execute_result"
    }
   ],
   "source": [
    "df_data_historica.isnull().any()"
   ]
  },
  {
   "cell_type": "code",
   "execution_count": 37,
   "id": "44408763",
   "metadata": {},
   "outputs": [
    {
     "data": {
      "text/plain": [
       "False"
      ]
     },
     "execution_count": 37,
     "metadata": {},
     "output_type": "execute_result"
    }
   ],
   "source": [
    "df_data_historica.duplicated().any()"
   ]
  },
  {
   "cell_type": "code",
   "execution_count": 57,
   "id": "616eff20",
   "metadata": {},
   "outputs": [
    {
     "name": "stdout",
     "output_type": "stream",
     "text": [
      "['France ' 'Argentina ' 'Chile ' 'Yugoslavia ' 'Brazil ' 'Romania '\n",
      " 'Uruguay ' 'United States ' 'Paraguay ' 'Spain ' 'Hungary '\n",
      " 'Switzerland ' 'Italy ' 'Czechoslovakia ' 'Sweden ' 'Austria ' 'Germany '\n",
      " 'Cuba ' 'England ' 'West Germany ' 'Turkey ' 'Northern Ireland '\n",
      " 'Mexico ' 'Wales ' 'Soviet Union ' 'Portugal ' 'North Korea ' 'Belgium '\n",
      " 'Peru ' 'Bulgaria ' 'East Germany ' 'Australia ' 'Zaire ' 'Scotland '\n",
      " 'Netherlands ' 'Poland ' 'Haiti ' 'Tunisia ' 'Algeria ' 'Honduras '\n",
      " 'South Korea ' 'Iraq ' 'Canada ' 'Denmark ' 'Morocco ' 'Cameroon '\n",
      " 'Costa Rica ' 'United Arab Emirates ' 'Republic of Ireland ' 'Colombia '\n",
      " 'Russia ' 'Bolivia ' 'Nigeria ' 'Greece ' 'Norway ' 'Saudi Arabia '\n",
      " 'South Africa ' 'FR Yugoslavia ' 'Jamaica ' 'Japan ' 'Senegal '\n",
      " 'Slovenia ' 'China ' 'Croatia ' 'Ecuador ' 'Trinidad and Tobago '\n",
      " 'Serbia and Montenegro ' 'Ivory Coast ' 'Angola ' 'Iran '\n",
      " 'Czech Republic ' 'Ghana ' 'Togo ' 'Ukraine ' 'Serbia ' 'New Zealand '\n",
      " 'Slovakia ' 'Bosnia and Herzegovina ' 'Egypt ' 'Iceland ' 'Panama ']\n",
      "[' Mexico' ' France' ' Chile' ' Brazil' ' Bolivia' ' Peru' ' Romania'\n",
      " ' Belgium' ' Paraguay' ' United States' 'Yugoslavia' ' Argentina'\n",
      " ' Egypt' ' Netherlands' ' Hungary' ' Spain' ' Sweden' ' Switzerland'\n",
      " ' Austria' ' Germany' ' Czechoslovakia' ' Dutch East Indies' ' Norway'\n",
      " ' Poland' ' Cuba' ' Yugoslavia' ' England' ' Italy' ' Turkey'\n",
      " ' South Korea' ' West Germany' ' Scotland' ' Uruguay' ' Northern Ireland'\n",
      " ' Wales' ' Soviet Union' ' Colombia' ' Bulgaria' ' North Korea'\n",
      " ' Portugal' ' El Salvador' ' Israel' ' Morocco' ' Australia'\n",
      " ' East Germany' ' Zaire' ' Haiti' ' Tunisia' ' Iran' ' Cameroon'\n",
      " ' Algeria' ' Kuwait' ' Honduras' ' New Zealand' ' Iraq' ' Canada'\n",
      " ' Denmark' ' Costa Rica' ' United Arab Emirates' ' Republic of Ireland'\n",
      " ' Russia' ' Greece' ' Nigeria' ' Saudi Arabia' ' South Africa'\n",
      " ' FR Yugoslavia' ' Japan' ' Croatia' ' Jamaica' ' Senegal' ' Slovenia'\n",
      " ' China' ' Ecuador' ' Trinidad and Tobago' ' Ivory Coast'\n",
      " ' Serbia and Montenegro' ' Angola' ' Czech Republic' ' Ghana' ' Togo'\n",
      " ' Ukraine' ' Serbia' ' Slovakia' ' Bosnia and Herzegovina' ' Iceland'\n",
      " ' Panama']\n"
     ]
    }
   ],
   "source": [
    "print(df_data_historica[\"home\"].unique())\n",
    "print(df_data_historica[\"away\"].unique())"
   ]
  },
  {
   "cell_type": "markdown",
   "id": "9fed1396",
   "metadata": {},
   "source": [
    "#### Hay espacios en blanco."
   ]
  },
  {
   "cell_type": "code",
   "execution_count": 60,
   "id": "83893b9b",
   "metadata": {},
   "outputs": [],
   "source": [
    "df_data_historica[\"home\"]=df_data_historica[\"home\"].str.replace(\" \",\"\")\n",
    "df_data_historica[\"away\"]=df_data_historica[\"away\"].str.replace(\" \",\"\")"
   ]
  },
  {
   "cell_type": "markdown",
   "id": "f13d7795",
   "metadata": {},
   "source": [
    "#### Hay un partido que no se jugó entre Suecia y Astruia"
   ]
  },
  {
   "cell_type": "code",
   "execution_count": 67,
   "id": "82ef5cac",
   "metadata": {},
   "outputs": [
    {
     "data": {
      "text/html": [
       "<div>\n",
       "<style scoped>\n",
       "    .dataframe tbody tr th:only-of-type {\n",
       "        vertical-align: middle;\n",
       "    }\n",
       "\n",
       "    .dataframe tbody tr th {\n",
       "        vertical-align: top;\n",
       "    }\n",
       "\n",
       "    .dataframe thead th {\n",
       "        text-align: right;\n",
       "    }\n",
       "</style>\n",
       "<table border=\"1\" class=\"dataframe\">\n",
       "  <thead>\n",
       "    <tr style=\"text-align: right;\">\n",
       "      <th></th>\n",
       "      <th>home</th>\n",
       "      <th>score</th>\n",
       "      <th>away</th>\n",
       "      <th>year</th>\n",
       "    </tr>\n",
       "  </thead>\n",
       "  <tbody>\n",
       "    <tr>\n",
       "      <th>37</th>\n",
       "      <td>Sweden</td>\n",
       "      <td>w/o[a]</td>\n",
       "      <td>Austria</td>\n",
       "      <td>1938</td>\n",
       "    </tr>\n",
       "  </tbody>\n",
       "</table>\n",
       "</div>"
      ],
      "text/plain": [
       "      home   score     away  year\n",
       "37  Sweden  w/o[a]  Austria  1938"
      ]
     },
     "execution_count": 67,
     "metadata": {},
     "output_type": "execute_result"
    }
   ],
   "source": [
    "df_data_historica.loc[df_data_historica.home==\"Sweden\"].loc[df_data_historica.away==\"Austria\"]"
   ]
  },
  {
   "cell_type": "code",
   "execution_count": 69,
   "id": "6bbe232a",
   "metadata": {},
   "outputs": [],
   "source": [
    "index_eliminar = df_data_historica.loc[df_data_historica.home==\"Sweden\"].loc[df_data_historica.away==\"Austria\"].index\n",
    "df_data_historica.drop(index=index_eliminar,inplace=True)"
   ]
  },
  {
   "cell_type": "code",
   "execution_count": 71,
   "id": "5a3f7c87",
   "metadata": {},
   "outputs": [
    {
     "data": {
      "text/plain": [
       "0               4–1\n",
       "1               1–0\n",
       "2               3–0\n",
       "3               1–0\n",
       "4               6–3\n",
       "           ...     \n",
       "896    2–2 (a.e.t.)\n",
       "897             1–0\n",
       "898    2–1 (a.e.t.)\n",
       "899             2–0\n",
       "900             4–2\n",
       "Name: score, Length: 900, dtype: object"
      ]
     },
     "execution_count": 71,
     "metadata": {},
     "output_type": "execute_result"
    }
   ],
   "source": [
    "df_data_historica[\"score\"]"
   ]
  },
  {
   "cell_type": "markdown",
   "id": "6d676aca",
   "metadata": {},
   "source": [
    "#### Hay scores que contienen expresiones extrañas"
   ]
  },
  {
   "cell_type": "code",
   "execution_count": 85,
   "id": "12142121",
   "metadata": {},
   "outputs": [],
   "source": [
    "df_data_historica[\"score\"]=df_data_historica[\"score\"].str.replace(\"[^\\d–]\",\"\",regex=True)"
   ]
  },
  {
   "cell_type": "markdown",
   "id": "cd268963",
   "metadata": {},
   "source": [
    "#### Separamos el resultado en dos."
   ]
  },
  {
   "cell_type": "code",
   "execution_count": 93,
   "id": "a611c232",
   "metadata": {},
   "outputs": [],
   "source": [
    "df_data_historica[[\"homeGoals\",\"awayGolas\"]]= df_data_historica[\"score\"].str.split(\"–\",expand=True)"
   ]
  },
  {
   "cell_type": "code",
   "execution_count": 94,
   "id": "19079c3e",
   "metadata": {},
   "outputs": [],
   "source": [
    "df_data_historica.drop(\"score\",axis=1,inplace=True)"
   ]
  },
  {
   "cell_type": "code",
   "execution_count": 95,
   "id": "995d59b3",
   "metadata": {},
   "outputs": [],
   "source": [
    "df_data_historica.rename(columns={\"home\":\"HomeTeam\",\"away\":\"AwayTeam\",\"year\":\"Year\"},inplace=True)"
   ]
  },
  {
   "cell_type": "code",
   "execution_count": 97,
   "id": "627a54f4",
   "metadata": {},
   "outputs": [
    {
     "data": {
      "text/plain": [
       "HomeTeam     object\n",
       "AwayTeam     object\n",
       "Year          int64\n",
       "homeGoals    object\n",
       "awayGolas    object\n",
       "dtype: object"
      ]
     },
     "execution_count": 97,
     "metadata": {},
     "output_type": "execute_result"
    }
   ],
   "source": [
    "df_data_historica.dtypes"
   ]
  },
  {
   "cell_type": "code",
   "execution_count": 101,
   "id": "4a96975d",
   "metadata": {},
   "outputs": [
    {
     "data": {
      "text/html": [
       "<div>\n",
       "<style scoped>\n",
       "    .dataframe tbody tr th:only-of-type {\n",
       "        vertical-align: middle;\n",
       "    }\n",
       "\n",
       "    .dataframe tbody tr th {\n",
       "        vertical-align: top;\n",
       "    }\n",
       "\n",
       "    .dataframe thead th {\n",
       "        text-align: right;\n",
       "    }\n",
       "</style>\n",
       "<table border=\"1\" class=\"dataframe\">\n",
       "  <thead>\n",
       "    <tr style=\"text-align: right;\">\n",
       "      <th></th>\n",
       "      <th>HomeTeam</th>\n",
       "      <th>AwayTeam</th>\n",
       "      <th>Year</th>\n",
       "      <th>homeGoals</th>\n",
       "      <th>awayGolas</th>\n",
       "    </tr>\n",
       "  </thead>\n",
       "  <tbody>\n",
       "    <tr>\n",
       "      <th>0</th>\n",
       "      <td>France</td>\n",
       "      <td>Mexico</td>\n",
       "      <td>1930</td>\n",
       "      <td>4</td>\n",
       "      <td>1</td>\n",
       "    </tr>\n",
       "    <tr>\n",
       "      <th>1</th>\n",
       "      <td>Argentina</td>\n",
       "      <td>France</td>\n",
       "      <td>1930</td>\n",
       "      <td>1</td>\n",
       "      <td>0</td>\n",
       "    </tr>\n",
       "    <tr>\n",
       "      <th>2</th>\n",
       "      <td>Chile</td>\n",
       "      <td>Mexico</td>\n",
       "      <td>1930</td>\n",
       "      <td>3</td>\n",
       "      <td>0</td>\n",
       "    </tr>\n",
       "    <tr>\n",
       "      <th>3</th>\n",
       "      <td>Chile</td>\n",
       "      <td>France</td>\n",
       "      <td>1930</td>\n",
       "      <td>1</td>\n",
       "      <td>0</td>\n",
       "    </tr>\n",
       "    <tr>\n",
       "      <th>4</th>\n",
       "      <td>Argentina</td>\n",
       "      <td>Mexico</td>\n",
       "      <td>1930</td>\n",
       "      <td>6</td>\n",
       "      <td>3</td>\n",
       "    </tr>\n",
       "    <tr>\n",
       "      <th>...</th>\n",
       "      <td>...</td>\n",
       "      <td>...</td>\n",
       "      <td>...</td>\n",
       "      <td>...</td>\n",
       "      <td>...</td>\n",
       "    </tr>\n",
       "    <tr>\n",
       "      <th>896</th>\n",
       "      <td>Russia</td>\n",
       "      <td>Croatia</td>\n",
       "      <td>2018</td>\n",
       "      <td>2</td>\n",
       "      <td>2</td>\n",
       "    </tr>\n",
       "    <tr>\n",
       "      <th>897</th>\n",
       "      <td>France</td>\n",
       "      <td>Belgium</td>\n",
       "      <td>2018</td>\n",
       "      <td>1</td>\n",
       "      <td>0</td>\n",
       "    </tr>\n",
       "    <tr>\n",
       "      <th>898</th>\n",
       "      <td>Croatia</td>\n",
       "      <td>England</td>\n",
       "      <td>2018</td>\n",
       "      <td>2</td>\n",
       "      <td>1</td>\n",
       "    </tr>\n",
       "    <tr>\n",
       "      <th>899</th>\n",
       "      <td>Belgium</td>\n",
       "      <td>England</td>\n",
       "      <td>2018</td>\n",
       "      <td>2</td>\n",
       "      <td>0</td>\n",
       "    </tr>\n",
       "    <tr>\n",
       "      <th>900</th>\n",
       "      <td>France</td>\n",
       "      <td>Croatia</td>\n",
       "      <td>2018</td>\n",
       "      <td>4</td>\n",
       "      <td>2</td>\n",
       "    </tr>\n",
       "  </tbody>\n",
       "</table>\n",
       "<p>900 rows × 5 columns</p>\n",
       "</div>"
      ],
      "text/plain": [
       "      HomeTeam AwayTeam  Year homeGoals awayGolas\n",
       "0       France   Mexico  1930         4         1\n",
       "1    Argentina   France  1930         1         0\n",
       "2        Chile   Mexico  1930         3         0\n",
       "3        Chile   France  1930         1         0\n",
       "4    Argentina   Mexico  1930         6         3\n",
       "..         ...      ...   ...       ...       ...\n",
       "896     Russia  Croatia  2018         2         2\n",
       "897     France  Belgium  2018         1         0\n",
       "898    Croatia  England  2018         2         1\n",
       "899    Belgium  England  2018         2         0\n",
       "900     France  Croatia  2018         4         2\n",
       "\n",
       "[900 rows x 5 columns]"
      ]
     },
     "execution_count": 101,
     "metadata": {},
     "output_type": "execute_result"
    }
   ],
   "source": [
    "df_data_historica"
   ]
  },
  {
   "cell_type": "markdown",
   "id": "7915851a",
   "metadata": {},
   "source": [
    "#### Renombramos columnas y cambiamos la tipología de los datos.\n"
   ]
  },
  {
   "cell_type": "code",
   "execution_count": 112,
   "id": "27790532",
   "metadata": {},
   "outputs": [],
   "source": [
    "df_data_historica=df_data_historica.rename(columns={\"awayGolas\":\"awayGoals\"})"
   ]
  },
  {
   "cell_type": "code",
   "execution_count": 118,
   "id": "3c4f5ba5",
   "metadata": {},
   "outputs": [
    {
     "data": {
      "text/plain": [
       "array(['1', '0', '3', '2', '5', '4', '7', None], dtype=object)"
      ]
     },
     "execution_count": 118,
     "metadata": {},
     "output_type": "execute_result"
    }
   ],
   "source": [
    "df_data_historica[\"awayGoals\"].unique()"
   ]
  },
  {
   "cell_type": "code",
   "execution_count": 126,
   "id": "7a639398",
   "metadata": {},
   "outputs": [],
   "source": [
    "df_data_historica.drop(index=df_data_historica.loc[df_data_historica[\"awayGoals\"].isnull()].index,inplace=True)"
   ]
  },
  {
   "cell_type": "code",
   "execution_count": 129,
   "id": "e5c2ec6a",
   "metadata": {},
   "outputs": [],
   "source": [
    "df_data_historica=df_data_historica.astype({\"awayGoals\":int,\"homeGoals\":int})"
   ]
  },
  {
   "cell_type": "markdown",
   "id": "f3a0dc29",
   "metadata": {},
   "source": [
    "#### Exportamos dataframes limpios"
   ]
  },
  {
   "cell_type": "code",
   "execution_count": 132,
   "id": "71300655",
   "metadata": {},
   "outputs": [],
   "source": [
    "df_data_historica.to_csv(\"clean_mundiales.csv\",index=False)\n",
    "df_data_actual.to_csv(\"clean_wordcup_fixtue.csv\",index=False)"
   ]
  }
 ],
 "metadata": {
  "kernelspec": {
   "display_name": "Python 3 (ipykernel)",
   "language": "python",
   "name": "python3"
  },
  "language_info": {
   "codemirror_mode": {
    "name": "ipython",
    "version": 3
   },
   "file_extension": ".py",
   "mimetype": "text/x-python",
   "name": "python",
   "nbconvert_exporter": "python",
   "pygments_lexer": "ipython3",
   "version": "3.11.3"
  }
 },
 "nbformat": 4,
 "nbformat_minor": 5
}
